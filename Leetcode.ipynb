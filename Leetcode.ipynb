{
  "cells": [
    {
      "cell_type": "code",
      "execution_count": 1,
      "metadata": {
        "colab": {
          "base_uri": "https://localhost:8080/"
        },
        "id": "-HqXALX1Yn28",
        "outputId": "89a4a3ec-d769-49ef-c6f3-a4e1ce850ed0"
      },
      "outputs": [
        {
          "output_type": "stream",
          "name": "stdout",
          "text": [
            "hi\n"
          ]
        }
      ],
      "source": [
        "print('hi')"
      ]
    },
    {
      "cell_type": "markdown",
      "source": [
        "## Contains duplicates"
      ],
      "metadata": {
        "id": "E9bDuytdZY6r"
      }
    },
    {
      "cell_type": "code",
      "source": [
        "def containsDuplicate( nums) -> bool:\n",
        "    l=set()\n",
        "    for i in nums:\n",
        "        if(i not in l):\n",
        "            l.add(i)\n",
        "        else:\n",
        "            return True\n",
        "    return False\n",
        "\n",
        "nums = [1,2,4,4,5,6]\n",
        "containsDuplicate(nums)"
      ],
      "metadata": {
        "colab": {
          "base_uri": "https://localhost:8080/"
        },
        "id": "5Pw7a3rOYxeI",
        "outputId": "e60ef122-f727-42f9-ade7-df64d18fc86c"
      },
      "execution_count": 3,
      "outputs": [
        {
          "output_type": "execute_result",
          "data": {
            "text/plain": [
              "True"
            ]
          },
          "metadata": {},
          "execution_count": 3
        }
      ]
    },
    {
      "cell_type": "code",
      "source": [],
      "metadata": {
        "id": "RpgyDiMhZtvP"
      },
      "execution_count": null,
      "outputs": []
    }
  ],
  "metadata": {
    "language_info": {
      "name": "python"
    },
    "colab": {
      "provenance": []
    },
    "kernelspec": {
      "name": "python3",
      "display_name": "Python 3"
    }
  },
  "nbformat": 4,
  "nbformat_minor": 0
}