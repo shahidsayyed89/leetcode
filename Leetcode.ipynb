{
  "cells": [
    {
      "cell_type": "markdown",
      "source": [
        "### Contains duplicates"
      ],
      "metadata": {
        "id": "E9bDuytdZY6r"
      }
    },
    {
      "cell_type": "code",
      "source": [
        "def containsDuplicate( nums) -> bool:\n",
        "    l=set()\n",
        "    for i in nums:\n",
        "        if(i not in l):\n",
        "            l.add(i)\n",
        "        else:\n",
        "            return True\n",
        "    return False\n",
        "\n",
        "nums = [1,2,4,4,5,6]\n",
        "containsDuplicate(nums)"
      ],
      "metadata": {
        "colab": {
          "base_uri": "https://localhost:8080/"
        },
        "id": "5Pw7a3rOYxeI",
        "outputId": "e60ef122-f727-42f9-ade7-df64d18fc86c"
      },
      "execution_count": 3,
      "outputs": [
        {
          "output_type": "execute_result",
          "data": {
            "text/plain": [
              "True"
            ]
          },
          "metadata": {},
          "execution_count": 3
        }
      ]
    },
    {
      "cell_type": "markdown",
      "source": [
        "### find all numbers disappeared in an array"
      ],
      "metadata": {
        "id": "DGnzw4fGc11V"
      }
    },
    {
      "cell_type": "code",
      "source": [
        "nums_2 = [4,3,2,7,8,2,3,1]\n",
        "\n",
        "def numDisappear(nums):\n",
        "  set_nums = set(nums_2)\n",
        "  ret = []\n",
        "  for i in range(1, len(nums)+1):\n",
        "    if i not in set_nums:\n",
        "      ret.append(i)\n",
        "\n",
        "  return ret\n",
        "\n",
        "\n",
        "\n",
        "numDisappear(nums_2)\n"
      ],
      "metadata": {
        "colab": {
          "base_uri": "https://localhost:8080/"
        },
        "id": "RpgyDiMhZtvP",
        "outputId": "75ee2551-7648-4ec8-ea69-7f49031811de"
      },
      "execution_count": 6,
      "outputs": [
        {
          "output_type": "execute_result",
          "data": {
            "text/plain": [
              "[5, 6]"
            ]
          },
          "metadata": {},
          "execution_count": 6
        }
      ]
    },
    {
      "cell_type": "code",
      "source": [
        "nums_3 = [4,3,2,7,8,2,3,1]\n",
        "def numDisappear2(nums):\n",
        "  ret = []\n",
        "  for n in nums_3:\n",
        "    print(f'-----n:{n}')\n",
        "    i = abs(n) - 1\n",
        "    print(f'i: {i}')\n",
        "    nums_3[i] = -1 * abs(nums_3[i])\n",
        "\n",
        "  for i,v in enumerate(nums_3):\n",
        "    if v > 0 :\n",
        "      ret.append(i+1)\n",
        "  return ret\n",
        "\n",
        "numDisappear2(ret)"
      ],
      "metadata": {
        "id": "PaJvD6E-pR1J",
        "outputId": "d1fbf976-7eab-42b4-d2eb-102124f416a4",
        "colab": {
          "base_uri": "https://localhost:8080/"
        }
      },
      "execution_count": 24,
      "outputs": [
        {
          "output_type": "stream",
          "name": "stdout",
          "text": [
            "-----n:4\n",
            "i: 3\n",
            "-----n:3\n",
            "i: 2\n",
            "-----n:-2\n",
            "i: 1\n",
            "-----n:-7\n",
            "i: 6\n",
            "-----n:8\n",
            "i: 7\n",
            "-----n:2\n",
            "i: 1\n",
            "-----n:-3\n",
            "i: 2\n",
            "-----n:-1\n",
            "i: 0\n"
          ]
        },
        {
          "output_type": "execute_result",
          "data": {
            "text/plain": [
              "[5, 6]"
            ]
          },
          "metadata": {},
          "execution_count": 24
        }
      ]
    },
    {
      "cell_type": "markdown",
      "source": [
        "### two sum"
      ],
      "metadata": {
        "id": "jUVh7OFvyLHF"
      }
    },
    {
      "cell_type": "code",
      "source": [
        "from typing import List\n",
        "\n",
        "nums = [6, 2, 4, 3, 2, 5]\n",
        "target = 9\n",
        "\n",
        "def twoSum(nums: List[int], target: int) -> List[int]:\n",
        "    num_indices = {}  # Dictionary to store number:index pairs\n",
        "\n",
        "    for idx, num in enumerate(nums):\n",
        "        complement = target - num\n",
        "\n",
        "        # Check if the complement exists in the dictionary\n",
        "        if complement in num_indices:\n",
        "            return [num_indices[complement], idx]\n",
        "\n",
        "        # Store the current number and its index in the dictionary\n",
        "        print(f\"dict: {num_indices}\")\n",
        "        num_indices[num] = idx\n",
        "\n",
        "    # Return empty list if no such pair found\n",
        "    return []\n",
        "\n",
        "\n",
        "twoSum(nums, target)"
      ],
      "metadata": {
        "id": "uGh12KfRkv1H",
        "outputId": "52580ca1-e3e6-412c-ce25-d0acf5ddb825",
        "colab": {
          "base_uri": "https://localhost:8080/"
        }
      },
      "execution_count": 26,
      "outputs": [
        {
          "output_type": "stream",
          "name": "stdout",
          "text": [
            "dict: {}\n",
            "dict: {6: 0}\n",
            "dict: {6: 0, 2: 1}\n"
          ]
        },
        {
          "output_type": "execute_result",
          "data": {
            "text/plain": [
              "[0, 3]"
            ]
          },
          "metadata": {},
          "execution_count": 26
        }
      ]
    },
    {
      "cell_type": "markdown",
      "source": [
        "### How Many Numbers Are Smaller Than the Current Number"
      ],
      "metadata": {
        "id": "UIWmbaGZJI6Y"
      }
    },
    {
      "cell_type": "code",
      "source": [
        "nums = [8,1,2,2,3]\n",
        "\n",
        "nums1 = sorted(nums)\n",
        "hash = {}\n",
        "for i,num in enumerate(nums1):\n",
        "  if num not in hash:\n",
        "    hash[num] = i\n",
        "ret = [hash[i] for i in nums]\n",
        "print(ret)\n"
      ],
      "metadata": {
        "id": "LC62AtbFM_Gn",
        "outputId": "51c78d3f-e3c7-4af2-ff7c-b00d07cdc94e",
        "colab": {
          "base_uri": "https://localhost:8080/"
        }
      },
      "execution_count": 33,
      "outputs": [
        {
          "output_type": "stream",
          "name": "stdout",
          "text": [
            "[4, 0, 1, 1, 3]\n"
          ]
        }
      ]
    },
    {
      "cell_type": "code",
      "source": [
        "nums = [8,1,2,2,3]\n",
        "\n",
        "ret = []\n",
        "\n",
        "for i in nums:\n",
        "  count = 0\n",
        "  for j in nums:\n",
        "    if j == i :\n",
        "      pass\n",
        "    elif j < i:\n",
        "      count = count +1\n",
        "    elif j > i:\n",
        "      pass\n",
        "  ret.append(count)\n",
        "\n",
        "print(ret)\n",
        "\n",
        "\n"
      ],
      "metadata": {
        "id": "azjfTyBRyVPd",
        "outputId": "5cbf8bf8-51a3-439d-9391-03de565af6bb",
        "colab": {
          "base_uri": "https://localhost:8080/"
        }
      },
      "execution_count": 30,
      "outputs": [
        {
          "output_type": "stream",
          "name": "stdout",
          "text": [
            "[4, 0, 1, 1, 3]\n"
          ]
        }
      ]
    },
    {
      "cell_type": "code",
      "source": [],
      "metadata": {
        "id": "E881D3K3JF-w"
      },
      "execution_count": null,
      "outputs": []
    }
  ],
  "metadata": {
    "language_info": {
      "name": "python"
    },
    "colab": {
      "provenance": []
    },
    "kernelspec": {
      "name": "python3",
      "display_name": "Python 3"
    }
  },
  "nbformat": 4,
  "nbformat_minor": 0
}